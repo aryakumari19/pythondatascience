{
 "cells": [
  {
   "cell_type": "markdown",
   "id": "98e88b4e",
   "metadata": {},
   "source": [
    "# Ques1.  Write a python to remove duplicates from a list"
   ]
  },
  {
   "cell_type": "code",
   "execution_count": 5,
   "id": "2816e59a",
   "metadata": {},
   "outputs": [
    {
     "name": "stdout",
     "output_type": "stream",
     "text": [
      "['arya', 3, 4, 5, 6, 7, 'anu']\n"
     ]
    }
   ],
   "source": [
    "\n",
    "list1=[\"arya\",\"anu\",3,5,6,7,3,4,5,\"arya\"]\n",
    "list2=set(list1)\n",
    "print(list(list2))"
   ]
  },
  {
   "cell_type": "markdown",
   "id": "33bf6e6c",
   "metadata": {},
   "source": [
    "# Ques2. Write Python program to combine two dictionary adding values  for common keys\n",
    "          d1={'a':100,'b':200,'c':300}\n",
    "          d2={'a':300,'b':200,'d':400}\n",
    "        Sample output:Counter({'a':400,'b':400,'d':400,'c':300})"
   ]
  },
  {
   "cell_type": "code",
   "execution_count": 2,
   "id": "cef2021c",
   "metadata": {},
   "outputs": [],
   "source": [
    "from collections import Counter\n"
   ]
  },
  {
   "cell_type": "code",
   "execution_count": 4,
   "id": "0ace8b76",
   "metadata": {},
   "outputs": [
    {
     "name": "stdout",
     "output_type": "stream",
     "text": [
      "Counter({'a': 400, 'b': 400, 'd': 400, 'c': 300})\n"
     ]
    }
   ],
   "source": [
    "d1={'a':100,'b':200,'c':300}\n",
    "d2={'a':300,'b':200,'d':400}\n",
    "dcount=Counter(d1)+Counter(d2)\n",
    "print(dcount)"
   ]
  },
  {
   "cell_type": "markdown",
   "id": "8d2c37a4",
   "metadata": {},
   "source": [
    "# Ques3. Write a  python program to convert a tuple to a string."
   ]
  },
  {
   "cell_type": "code",
   "execution_count": 8,
   "id": "75d5afe5",
   "metadata": {},
   "outputs": [
    {
     "name": "stdout",
     "output_type": "stream",
     "text": [
      "ashika\n"
     ]
    }
   ],
   "source": [
    "tuple = ('a','s','h','i','k','a')\n",
    "str =''\n",
    "for i in tuple:\n",
    "    str=str+i\n",
    "print(str)    "
   ]
  },
  {
   "cell_type": "markdown",
   "id": "c56cffd4",
   "metadata": {},
   "source": [
    "# Ques4. Write a python to remove items(s) from set."
   ]
  },
  {
   "cell_type": "code",
   "execution_count": 11,
   "id": "835d027d",
   "metadata": {},
   "outputs": [
    {
     "data": {
      "text/plain": [
       "{'anjali', 'mitesh', 'raju', 'rani', 'riya'}"
      ]
     },
     "execution_count": 11,
     "metadata": {},
     "output_type": "execute_result"
    }
   ],
   "source": [
    "set={\"rani\",\"riya\",\"ram\",\"raju\",\"mitesh\",\"anjali\"}\n",
    "set.remove(\"ram\")\n",
    "set"
   ]
  },
  {
   "cell_type": "markdown",
   "id": "697bf668",
   "metadata": {},
   "source": [
    "# Ques5. Write a python program to create a symmetric difference."
   ]
  },
  {
   "cell_type": "code",
   "execution_count": 24,
   "id": "8386347d",
   "metadata": {},
   "outputs": [
    {
     "data": {
      "text/plain": [
       "{2, 3, 4, 6, 7, 8, 9}"
      ]
     },
     "execution_count": 24,
     "metadata": {},
     "output_type": "execute_result"
    }
   ],
   "source": [
    "set1={1,2,3,5,6,7}\n",
    "set2={1,4,8,5,9}\n",
    "set1.symmetric_difference(set2)"
   ]
  },
  {
   "cell_type": "markdown",
   "id": "3bbe6bab",
   "metadata": {},
   "source": [
    "# Ques6. Write a Python program to construct the following pattern,using a                         nested for loop\n",
    "         *\n",
    "    \n",
    "    \n",
    "        \n",
    "         *\n",
    "         \n",
    "            \n",
    "            \n",
    "        *\n",
    "        \n",
    "        \n",
    "        \n",
    "         *\n",
    "        \n",
    "        \n",
    "        \n",
    "         *"
   ]
  },
  {
   "cell_type": "code",
   "execution_count": 51,
   "id": "1a509f27",
   "metadata": {},
   "outputs": [
    {
     "name": "stdout",
     "output_type": "stream",
     "text": [
      "*\n",
      " \n",
      " \n",
      " \n",
      "*\n",
      " \n",
      " \n",
      " \n",
      "*\n",
      " \n",
      " \n",
      " \n",
      "*\n",
      " \n",
      " \n",
      " \n",
      "*\n",
      " \n",
      " \n",
      " \n"
     ]
    }
   ],
   "source": [
    "for x in range(5): \n",
    "    print(\"*\")\n",
    "    for j in range(3):\n",
    "        print(\" \")\n",
    "            \n",
    "                  "
   ]
  },
  {
   "cell_type": "markdown",
   "id": "176e4f7d",
   "metadata": {},
   "source": [
    "# Ques6. Write a Python program to get the fibonannic series between 0 to 50."
   ]
  },
  {
   "cell_type": "code",
   "execution_count": 63,
   "id": "5ab3d0ba",
   "metadata": {},
   "outputs": [],
   "source": [
    "def fibonannic():\n",
    "    a=0\n",
    "    b=1\n",
    "    print(a)\n",
    "    print(b)\n",
    "    for i in range(0,50):\n",
    "        c=a+b\n",
    "        a=b\n",
    "        b=c\n",
    "        if(b<50):\n",
    "            print(b,\"\")\n",
    "    "
   ]
  },
  {
   "cell_type": "code",
   "execution_count": 64,
   "id": "982789bb",
   "metadata": {},
   "outputs": [
    {
     "name": "stdout",
     "output_type": "stream",
     "text": [
      "0\n",
      "1\n",
      "1 \n",
      "2 \n",
      "3 \n",
      "5 \n",
      "8 \n",
      "13 \n",
      "21 \n",
      "34 \n"
     ]
    }
   ],
   "source": [
    " fibonannic()"
   ]
  },
  {
   "cell_type": "code",
   "execution_count": null,
   "id": "e5f583e8",
   "metadata": {},
   "outputs": [],
   "source": []
  }
 ],
 "metadata": {
  "kernelspec": {
   "display_name": "Python 3",
   "language": "python",
   "name": "python3"
  },
  "language_info": {
   "codemirror_mode": {
    "name": "ipython",
    "version": 3
   },
   "file_extension": ".py",
   "mimetype": "text/x-python",
   "name": "python",
   "nbconvert_exporter": "python",
   "pygments_lexer": "ipython3",
   "version": "3.8.8"
  }
 },
 "nbformat": 4,
 "nbformat_minor": 5
}
