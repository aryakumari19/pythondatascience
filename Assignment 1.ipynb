{
 "cells": [
  {
   "cell_type": "markdown",
   "id": "03097784",
   "metadata": {},
   "source": [
    "# Assignment 1"
   ]
  },
  {
   "cell_type": "markdown",
   "id": "b9fb07ad",
   "metadata": {},
   "source": [
    " # Ques 1. Write code that uses iteration to print out the length of each element of the list stored in list"
   ]
  },
  {
   "cell_type": "code",
   "execution_count": 2,
   "id": "406f879b",
   "metadata": {},
   "outputs": [
    {
     "name": "stdout",
     "output_type": "stream",
     "text": [
      "5\n",
      "0\n",
      "7\n",
      "9\n",
      "13\n"
     ]
    }
   ],
   "source": [
    "list = [\"hello\",\"\",\"goodboy\",\"wonderful\",\"i love python\"]\n",
    "for i in list:\n",
    "    print(len(i))"
   ]
  },
  {
   "cell_type": "markdown",
   "id": "2107097b",
   "metadata": {},
   "source": [
    "# Ques 2. Write a python program to count and display the vowels of a given text"
   ]
  },
  {
   "cell_type": "code",
   "execution_count": 4,
   "id": "04c4e341",
   "metadata": {},
   "outputs": [
    {
     "name": "stdout",
     "output_type": "stream",
     "text": [
      "enter the stringshivam\n",
      "i\n",
      "a\n",
      "2\n"
     ]
    }
   ],
   "source": [
    "str = input(\"enter the string\")\n",
    "str.lower()\n",
    "count=0\n",
    "for i in str:\n",
    "    if(i=='a' or i=='e' or i=='i' or i=='o' or i=='u'):\n",
    "        count=count+1\n",
    "        print(i)\n",
    "print(count)        "
   ]
  },
  {
   "cell_type": "markdown",
   "id": "cc75a302",
   "metadata": {},
   "source": [
    "# Ques3. Write code to create a list of numbers from 0 to 88 and assign that list to the variable nums.Do not hard code the list"
   ]
  },
  {
   "cell_type": "code",
   "execution_count": 9,
   "id": "418eed36",
   "metadata": {},
   "outputs": [
    {
     "data": {
      "text/plain": [
       "[0,\n",
       " 1,\n",
       " 2,\n",
       " 3,\n",
       " 4,\n",
       " 5,\n",
       " 6,\n",
       " 7,\n",
       " 8,\n",
       " 9,\n",
       " 10,\n",
       " 11,\n",
       " 12,\n",
       " 13,\n",
       " 14,\n",
       " 15,\n",
       " 16,\n",
       " 17,\n",
       " 18,\n",
       " 19,\n",
       " 20,\n",
       " 21,\n",
       " 22,\n",
       " 23,\n",
       " 24,\n",
       " 25,\n",
       " 26,\n",
       " 27,\n",
       " 28,\n",
       " 29,\n",
       " 30,\n",
       " 31,\n",
       " 32,\n",
       " 33,\n",
       " 34,\n",
       " 35,\n",
       " 36,\n",
       " 37,\n",
       " 38,\n",
       " 39,\n",
       " 40,\n",
       " 41,\n",
       " 42,\n",
       " 43,\n",
       " 44,\n",
       " 45,\n",
       " 46,\n",
       " 47,\n",
       " 48,\n",
       " 49,\n",
       " 50,\n",
       " 51,\n",
       " 52,\n",
       " 53,\n",
       " 54,\n",
       " 55,\n",
       " 56,\n",
       " 57,\n",
       " 58,\n",
       " 59,\n",
       " 60,\n",
       " 61,\n",
       " 62,\n",
       " 63,\n",
       " 64,\n",
       " 65,\n",
       " 66,\n",
       " 67,\n",
       " 68,\n",
       " 69,\n",
       " 70,\n",
       " 71,\n",
       " 72,\n",
       " 73,\n",
       " 74,\n",
       " 75,\n",
       " 76,\n",
       " 77,\n",
       " 78,\n",
       " 79,\n",
       " 80,\n",
       " 81,\n",
       " 82,\n",
       " 83,\n",
       " 84,\n",
       " 85,\n",
       " 86,\n",
       " 87]"
      ]
     },
     "execution_count": 9,
     "metadata": {},
     "output_type": "execute_result"
    }
   ],
   "source": [
    "num =[]\n",
    "for i in range(0,88):\n",
    "     num.append(i)\n",
    "num"
   ]
  },
  {
   "cell_type": "markdown",
   "id": "3b41083e",
   "metadata": {},
   "source": [
    "# Ques 4.Addition is a string with a list of number separated by + sign.Write code that uses the accumulation pattern to take the sum of all of all of the number and assign it to sum_val(an integer).(you should use the .split(\"+\")function to split by \"+\" and int() to cast to an integer)"
   ]
  },
  {
   "cell_type": "code",
   "execution_count": 23,
   "id": "e7a13bf7",
   "metadata": {},
   "outputs": [
    {
     "name": "stdout",
     "output_type": "stream",
     "text": [
      "enter the number seperate by the sign+  4+5+7+6\n",
      "22\n"
     ]
    }
   ],
   "source": [
    "Addition=input(\"enter the number seperate by the sign+  \").split(\"+\")\n",
    "s=0\n",
    "for i in Addition:\n",
    "    s=s+int(i)\n",
    "print(s)                 \n",
    "                     "
   ]
  },
  {
   "cell_type": "markdown",
   "id": "3e0ad700",
   "metadata": {},
   "source": [
    "# Ques 5.Write a python program to find the volume of a sphere with diameter 12cm.\n",
    "        formula: v=4/3*3.14.r**3"
   ]
  },
  {
   "cell_type": "code",
   "execution_count": 25,
   "id": "e83cf250",
   "metadata": {},
   "outputs": [
    {
     "name": "stdout",
     "output_type": "stream",
     "text": [
      "904.3199999999999\n"
     ]
    }
   ],
   "source": [
    "d=12\n",
    "r=d/2\n",
    "v=4/3*3.14*r**3\n",
    "print(v)"
   ]
  },
  {
   "cell_type": "code",
   "execution_count": null,
   "id": "e17a27d5",
   "metadata": {},
   "outputs": [],
   "source": []
  }
 ],
 "metadata": {
  "kernelspec": {
   "display_name": "Python 3",
   "language": "python",
   "name": "python3"
  },
  "language_info": {
   "codemirror_mode": {
    "name": "ipython",
    "version": 3
   },
   "file_extension": ".py",
   "mimetype": "text/x-python",
   "name": "python",
   "nbconvert_exporter": "python",
   "pygments_lexer": "ipython3",
   "version": "3.8.8"
  }
 },
 "nbformat": 4,
 "nbformat_minor": 5
}
