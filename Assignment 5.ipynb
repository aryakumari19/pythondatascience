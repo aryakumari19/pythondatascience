{
 "cells": [
  {
   "cell_type": "markdown",
   "id": "7a12504c",
   "metadata": {},
   "source": [
    "# Ques1. Write a program which will find all such numbers which are divisible by 7 but are not multiple of 5,between 2000 and 3200(both included).The numbers obtained should be printed in a comma separated sequence on a single line."
   ]
  },
  {
   "cell_type": "code",
   "execution_count": 1,
   "id": "507a0506",
   "metadata": {},
   "outputs": [],
   "source": [
    "\n",
    "list=[x for x in range (2000,3200) if x%7==0 and x%5!=0]\n",
    "\n"
   ]
  },
  {
   "cell_type": "code",
   "execution_count": 2,
   "id": "9100b2fd",
   "metadata": {},
   "outputs": [
    {
     "name": "stdout",
     "output_type": "stream",
     "text": [
      "[2002, 2009, 2016, 2023, 2037, 2044, 2051, 2058, 2072, 2079, 2086, 2093, 2107, 2114, 2121, 2128, 2142, 2149, 2156, 2163, 2177, 2184, 2191, 2198, 2212, 2219, 2226, 2233, 2247, 2254, 2261, 2268, 2282, 2289, 2296, 2303, 2317, 2324, 2331, 2338, 2352, 2359, 2366, 2373, 2387, 2394, 2401, 2408, 2422, 2429, 2436, 2443, 2457, 2464, 2471, 2478, 2492, 2499, 2506, 2513, 2527, 2534, 2541, 2548, 2562, 2569, 2576, 2583, 2597, 2604, 2611, 2618, 2632, 2639, 2646, 2653, 2667, 2674, 2681, 2688, 2702, 2709, 2716, 2723, 2737, 2744, 2751, 2758, 2772, 2779, 2786, 2793, 2807, 2814, 2821, 2828, 2842, 2849, 2856, 2863, 2877, 2884, 2891, 2898, 2912, 2919, 2926, 2933, 2947, 2954, 2961, 2968, 2982, 2989, 2996, 3003, 3017, 3024, 3031, 3038, 3052, 3059, 3066, 3073, 3087, 3094, 3101, 3108, 3122, 3129, 3136, 3143, 3157, 3164, 3171, 3178, 3192, 3199]\n"
     ]
    }
   ],
   "source": [
    "print(list,sep=',')"
   ]
  },
  {
   "cell_type": "markdown",
   "id": "1f8e2048",
   "metadata": {},
   "source": [
    "# Ques2.with a given integeral number n ,write a program genrate a dictionarythat contain (i,i x i)such that is an intergral number between 1 and n (both included).and them the program should print the dictionary.Suppose the following inputis supplied to the program:12"
   ]
  },
  {
   "cell_type": "code",
   "execution_count": 3,
   "id": "7dd8b3f1",
   "metadata": {},
   "outputs": [
    {
     "name": "stdout",
     "output_type": "stream",
     "text": [
      "Enter the number12\n",
      "{1: 1, 2: 4, 3: 9, 4: 16, 5: 25, 6: 36, 7: 49, 8: 64, 9: 81, 10: 100, 11: 121, 12: 144}\n"
     ]
    }
   ],
   "source": [
    "n=int(input(\"Enter the number\"))\n",
    "dict={i:i*i for i in range(1,n+1)}\n",
    "print(dict)"
   ]
  },
  {
   "cell_type": "markdown",
   "id": "8ecf14de",
   "metadata": {},
   "source": [
    "# Ques3. define a class which has at least two methods."
   ]
  },
  {
   "cell_type": "code",
   "execution_count": 13,
   "id": "73c9ad93",
   "metadata": {},
   "outputs": [
    {
     "name": "stdout",
     "output_type": "stream",
     "text": [
      "ashika\n",
      "string is:\n",
      "ASHIKA\n"
     ]
    }
   ],
   "source": [
    "class method():\n",
    "    def __init__(self):\n",
    "        self.str=\"\"\n",
    "        \n",
    "    def getString(self):\n",
    "        self.str=input()\n",
    "        \n",
    "    def printString(self):\n",
    "        print(\"string is:\")\n",
    "        print(self.str.upper())\n",
    "obj=method()\n",
    "obj.getString()\n",
    "obj.printString()"
   ]
  },
  {
   "cell_type": "markdown",
   "id": "afe47e98",
   "metadata": {},
   "source": [
    "# Ques4.Define a class,which have a class parameter and have a same instance parameter.\n",
    "   Hint: Define an instance parameter need add it in init method .you can init an object with construct parameter or set the value later."
   ]
  },
  {
   "cell_type": "code",
   "execution_count": 5,
   "id": "ab75048d",
   "metadata": {},
   "outputs": [
    {
     "name": "stdout",
     "output_type": "stream",
     "text": [
      "NAME aru\n",
      "NAME arya\n"
     ]
    }
   ],
   "source": [
    "class student:\n",
    "    #Define the class parameter\"name\n",
    "    name=\"NAME\"\n",
    "    def __init__(self,name):\n",
    "       # self.nameis the instance parameter\n",
    "        self.name=name\n",
    "        \n",
    "aru=student(\"aru\")\n",
    "print(student.name,aru.name)\n",
    "        \n",
    "arya=student(\"arya\")\n",
    "arya.name=\"arya\"\n",
    "print(student.name,arya.name)"
   ]
  },
  {
   "cell_type": "markdown",
   "id": "40a04674",
   "metadata": {},
   "source": [
    "#  Ques5. Write a python class to convert an integer to a roman numeral."
   ]
  },
  {
   "cell_type": "code",
   "execution_count": 15,
   "id": "8f76a218",
   "metadata": {},
   "outputs": [],
   "source": [
    "\n",
    "class rom:\n",
    "    def romanpy(self,num):\n",
    "        roman={\"I\":1,\"V\":5,\"X\":10,\"l\":50,\"C\":100,\"IV\":4,\"IX\":9,\"Xl\":40,\"XC\":90,\"D\":500,\"M\":1000,\"CD\":400,\"CM\":900}\n",
    "        n=0\n",
    "        i=0\n",
    "        while i<len(num):\n",
    "            if i+1<len(num)and num[i:i+2]in roman:\n",
    "                n+=roman[num[i:i+2]]\n",
    "                i+=2\n",
    "            else:\n",
    "                \n",
    "                  n+=roman[num[i]]\n",
    "                  i+=1\n",
    "        return n    "
   ]
  },
  {
   "cell_type": "code",
   "execution_count": 17,
   "id": "648dcbe8",
   "metadata": {},
   "outputs": [
    {
     "data": {
      "text/plain": [
       "11"
      ]
     },
     "execution_count": 17,
     "metadata": {},
     "output_type": "execute_result"
    }
   ],
   "source": [
    "df=rom()\n",
    "df.romanpy(\"XI\")"
   ]
  },
  {
   "cell_type": "code",
   "execution_count": null,
   "id": "ec42e875",
   "metadata": {},
   "outputs": [],
   "source": []
  }
 ],
 "metadata": {
  "kernelspec": {
   "display_name": "Python 3",
   "language": "python",
   "name": "python3"
  },
  "language_info": {
   "codemirror_mode": {
    "name": "ipython",
    "version": 3
   },
   "file_extension": ".py",
   "mimetype": "text/x-python",
   "name": "python",
   "nbconvert_exporter": "python",
   "pygments_lexer": "ipython3",
   "version": "3.8.8"
  }
 },
 "nbformat": 4,
 "nbformat_minor": 5
}
