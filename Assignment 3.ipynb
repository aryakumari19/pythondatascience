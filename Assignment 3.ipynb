{
 "cells": [
  {
   "cell_type": "markdown",
   "id": "0abfa81d",
   "metadata": {},
   "source": [
    "# Ques 1. Write a python function to find the Max of three numbers."
   ]
  },
  {
   "cell_type": "code",
   "execution_count": 1,
   "id": "5e52423f",
   "metadata": {},
   "outputs": [],
   "source": [
    "def maximum(a,b,c):\n",
    "    if(a>b and a>c):\n",
    "        largest=a\n",
    "    elif(b>a and b>c):\n",
    "        largest=b\n",
    "    else:\n",
    "        largest=c\n",
    "    return largest    "
   ]
  },
  {
   "cell_type": "code",
   "execution_count": 2,
   "id": "56965987",
   "metadata": {},
   "outputs": [
    {
     "data": {
      "text/plain": [
       "14"
      ]
     },
     "execution_count": 2,
     "metadata": {},
     "output_type": "execute_result"
    }
   ],
   "source": [
    "maximum(8,14,12)"
   ]
  },
  {
   "cell_type": "markdown",
   "id": "c1fc4d56",
   "metadata": {},
   "source": [
    "# Ques 2. Write a Python Function to multiply all the number in list."
   ]
  },
  {
   "cell_type": "code",
   "execution_count": 28,
   "id": "8a26f52c",
   "metadata": {},
   "outputs": [],
   "source": [
    "def multi(n):\n",
    "        total=1\n",
    "        for i in n:\n",
    "            total=total*i\n",
    "        return total\n",
    "    "
   ]
  },
  {
   "cell_type": "code",
   "execution_count": 29,
   "id": "b27d5d86",
   "metadata": {},
   "outputs": [
    {
     "name": "stdout",
     "output_type": "stream",
     "text": [
      "120\n"
     ]
    }
   ],
   "source": [
    "print(multi([2,3,4,5]))"
   ]
  },
  {
   "cell_type": "markdown",
   "id": "737fc86a",
   "metadata": {},
   "source": [
    "# Ques 3. Write a Python function that accepts a string nd calculate the number of uppercase letter and lower case letters."
   ]
  },
  {
   "cell_type": "code",
   "execution_count": 26,
   "id": "114728cf",
   "metadata": {},
   "outputs": [],
   "source": [
    "def accept(string):\n",
    "        upper=0\n",
    "        lower=0\n",
    "        for i in string:\n",
    "            if i.islower():\n",
    "                lower= lower+1\n",
    "            else:\n",
    "                i.isupper()\n",
    "                upper=upper+1\n",
    "            \n",
    "        print(\"uppercase letter\",upper)\n",
    "        print(\"localcase letter\",lower)"
   ]
  },
  {
   "cell_type": "code",
   "execution_count": 27,
   "id": "8e229996",
   "metadata": {},
   "outputs": [
    {
     "name": "stdout",
     "output_type": "stream",
     "text": [
      "uppercase letter 4\n",
      "localcase letter 9\n"
     ]
    }
   ],
   "source": [
    "accept(\"AshiKaKhushBu\")"
   ]
  },
  {
   "cell_type": "markdown",
   "id": "fb9dc940",
   "metadata": {},
   "source": [
    "# Ques 4. Write a python Function that checks whether a passed string is palindrome or not."
   ]
  },
  {
   "cell_type": "code",
   "execution_count": 39,
   "id": "4ad06983",
   "metadata": {},
   "outputs": [],
   "source": [
    "def palindrome(str):\n",
    "    if str==str[::-1]:\n",
    "        print(\"this is a palindrome\",str)\n",
    "    else:\n",
    "        print(\"this is not palindrome\",str)"
   ]
  },
  {
   "cell_type": "code",
   "execution_count": 40,
   "id": "bfab7be4",
   "metadata": {},
   "outputs": [
    {
     "name": "stdout",
     "output_type": "stream",
     "text": [
      "this is not palindrome arya\n"
     ]
    }
   ],
   "source": [
    "palindrome(\"arya\")"
   ]
  },
  {
   "cell_type": "code",
   "execution_count": 41,
   "id": "84453fb2",
   "metadata": {},
   "outputs": [
    {
     "name": "stdout",
     "output_type": "stream",
     "text": [
      "this is a palindrome madam\n"
     ]
    }
   ],
   "source": [
    "palindrome(\"madam\")"
   ]
  },
  {
   "cell_type": "markdown",
   "id": "7fb6cbae",
   "metadata": {},
   "source": [
    "# Ques 5. Write a Python program to print the even numbers from a given list."
   ]
  },
  {
   "cell_type": "code",
   "execution_count": 42,
   "id": "a88e2ba2",
   "metadata": {},
   "outputs": [
    {
     "data": {
      "text/plain": [
       "[2, 4, 6]"
      ]
     },
     "execution_count": 42,
     "metadata": {},
     "output_type": "execute_result"
    }
   ],
   "source": [
    "l1=[2,4,6,5,9,11]\n",
    "list(filter(lambda x:x%2==0,l1))"
   ]
  },
  {
   "cell_type": "code",
   "execution_count": null,
   "id": "e7ff9778",
   "metadata": {},
   "outputs": [],
   "source": []
  }
 ],
 "metadata": {
  "kernelspec": {
   "display_name": "Python 3",
   "language": "python",
   "name": "python3"
  },
  "language_info": {
   "codemirror_mode": {
    "name": "ipython",
    "version": 3
   },
   "file_extension": ".py",
   "mimetype": "text/x-python",
   "name": "python",
   "nbconvert_exporter": "python",
   "pygments_lexer": "ipython3",
   "version": "3.8.8"
  }
 },
 "nbformat": 4,
 "nbformat_minor": 5
}
